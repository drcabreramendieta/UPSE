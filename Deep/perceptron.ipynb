{
 "cells": [
  {
   "cell_type": "code",
   "execution_count": 1,
   "id": "5a2d5072",
   "metadata": {},
   "outputs": [],
   "source": [
    "import numpy as np"
   ]
  },
  {
   "cell_type": "code",
   "execution_count": 52,
   "id": "dae0af56",
   "metadata": {},
   "outputs": [],
   "source": [
    "class Perceptron:\n",
    "    def __init__(self, n_features):\n",
    "        self.weights = np.zeros(n_features)\n",
    "        self.bias = 0.0\n",
    "\n",
    "    def forward(self, x):\n",
    "        linear_output = np.dot(x, self.weights) + self.bias\n",
    "        return 1 if linear_output > 0 else -1\n",
    "    \n",
    "    def update_weights(self, x, y):\n",
    "        #print(f\"Input: {x}, Target: {y}\")\n",
    "        linear_output = np.dot(x, self.weights) + self.bias\n",
    "        #print(f\"Linear output: {linear_output}, Weights: {self.weights}, Bias: {self.bias}\")\n",
    "        if y * linear_output <= 0.:\n",
    "            self.weights += y * x\n",
    "            self.bias += y\n",
    "            print(f\"Updated weights: {self.weights}, bias: {self.bias}\")\n",
    "            return 1.\n",
    "        return 0."
   ]
  },
  {
   "cell_type": "code",
   "execution_count": 53,
   "id": "0df8eb54",
   "metadata": {},
   "outputs": [
    {
     "data": {
      "text/plain": [
       "-1"
      ]
     },
     "execution_count": 53,
     "metadata": {},
     "output_type": "execute_result"
    }
   ],
   "source": [
    "model = Perceptron(n_features=2)\n",
    "model.forward(np.array([1, 2]))  # Example input"
   ]
  },
  {
   "cell_type": "code",
   "execution_count": 54,
   "id": "b1edf7d0",
   "metadata": {},
   "outputs": [],
   "source": [
    "def train_perceptron(model:Perceptron, X, y, epochs=10):\n",
    "    for epoch in range(epochs):\n",
    "        err_sum = 0.\n",
    "        for i in range(len(X)):\n",
    "            err_sum += model.update_weights(X[i], y[i])\n",
    "        print(f\"Epoch {epoch + 1}, Errors: {err_sum}\")\n",
    "        if err_sum == 0.:\n",
    "            print(f\"Training complete after {epoch + 1} epochs.\")\n",
    "            break"
   ]
  },
  {
   "cell_type": "code",
   "execution_count": 55,
   "id": "d4e746bc",
   "metadata": {},
   "outputs": [
    {
     "name": "stdout",
     "output_type": "stream",
     "text": [
      "Updated weights: [1. 2.], bias: 1.0\n",
      "Updated weights: [-1. -1.], bias: 0.0\n",
      "Updated weights: [2. 3.], bias: 1.0\n",
      "Epoch 1, Errors: 3.0\n",
      "Updated weights: [0. 0.], bias: 0.0\n",
      "Updated weights: [3. 4.], bias: 1.0\n",
      "Epoch 2, Errors: 2.0\n",
      "Updated weights: [1. 1.], bias: 0.0\n",
      "Epoch 3, Errors: 1.0\n",
      "Updated weights: [-1. -2.], bias: -1.0\n",
      "Updated weights: [2. 2.], bias: 0.0\n",
      "Epoch 4, Errors: 2.0\n",
      "Updated weights: [ 0. -1.], bias: -1.0\n",
      "Updated weights: [3. 3.], bias: 0.0\n",
      "Epoch 5, Errors: 2.0\n",
      "Updated weights: [1. 0.], bias: -1.0\n",
      "Epoch 6, Errors: 1.0\n",
      "Updated weights: [2. 2.], bias: 0.0\n",
      "Updated weights: [ 0. -1.], bias: -1.0\n",
      "Updated weights: [3. 3.], bias: 0.0\n",
      "Epoch 7, Errors: 3.0\n",
      "Updated weights: [1. 0.], bias: -1.0\n",
      "Epoch 8, Errors: 1.0\n",
      "Updated weights: [2. 2.], bias: 0.0\n",
      "Updated weights: [ 0. -1.], bias: -1.0\n",
      "Updated weights: [3. 3.], bias: 0.0\n",
      "Epoch 9, Errors: 3.0\n",
      "Updated weights: [1. 0.], bias: -1.0\n",
      "Epoch 10, Errors: 1.0\n"
     ]
    }
   ],
   "source": [
    "X = np.array([[1, 2], [2, 3], [3, 4]])\n",
    "y = np.array([1, -1, 1])\n",
    "train_perceptron(model, X, y, epochs=10)"
   ]
  },
  {
   "cell_type": "code",
   "execution_count": 58,
   "id": "9d04df33",
   "metadata": {},
   "outputs": [
    {
     "name": "stdout",
     "output_type": "stream",
     "text": [
      "Updated weights: [-3. -3.], bias: 1.0\n",
      "Updated weights: [ 0. -2.], bias: 0.0\n",
      "Epoch 1, Errors: 2.0\n",
      "Updated weights: [ 3. -1.], bias: -1.0\n",
      "Updated weights: [ 1. -3.], bias: -2.0\n",
      "Epoch 2, Errors: 2.0\n",
      "Epoch 3, Errors: 0.0\n",
      "Training complete after 3 epochs.\n"
     ]
    }
   ],
   "source": [
    "model = Perceptron(n_features=2)\n",
    "X = np.array([[-3, -3], [-3, -2], [-3, -1], [2, 2]])\n",
    "y = np.array([1, 1, -1,-1])\n",
    "train_perceptron(model, X, y, epochs=10)"
   ]
  },
  {
   "cell_type": "code",
   "execution_count": 50,
   "id": "fa863a28",
   "metadata": {},
   "outputs": [
    {
     "data": {
      "text/plain": [
       "array([ 1., -3.])"
      ]
     },
     "execution_count": 50,
     "metadata": {},
     "output_type": "execute_result"
    }
   ],
   "source": [
    "model.weights"
   ]
  },
  {
   "cell_type": "code",
   "execution_count": 51,
   "id": "e155a66b",
   "metadata": {},
   "outputs": [
    {
     "data": {
      "text/plain": [
       "np.float64(-1.0)"
      ]
     },
     "execution_count": 51,
     "metadata": {},
     "output_type": "execute_result"
    }
   ],
   "source": [
    "model.bias"
   ]
  },
  {
   "cell_type": "code",
   "execution_count": null,
   "id": "107ac60b",
   "metadata": {},
   "outputs": [],
   "source": []
  }
 ],
 "metadata": {
  "kernelspec": {
   "display_name": ".venv",
   "language": "python",
   "name": "python3"
  },
  "language_info": {
   "codemirror_mode": {
    "name": "ipython",
    "version": 3
   },
   "file_extension": ".py",
   "mimetype": "text/x-python",
   "name": "python",
   "nbconvert_exporter": "python",
   "pygments_lexer": "ipython3",
   "version": "3.10.12"
  }
 },
 "nbformat": 4,
 "nbformat_minor": 5
}
